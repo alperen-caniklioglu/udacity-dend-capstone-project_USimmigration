{
 "cells": [
  {
   "cell_type": "markdown",
   "metadata": {
    "editable": true
   },
   "source": [
    "# Tests on final Structure\n",
    "- Read final parquet finals\n",
    "- Execute SQL queries to prove that the concept works"
   ]
  },
  {
   "cell_type": "code",
   "execution_count": 5,
   "metadata": {
    "editable": true
   },
   "outputs": [],
   "source": [
    "import os\n",
    "import pandas as pd\n",
    "from pyspark.sql import SparkSession\n",
    "from pyspark.sql.functions import udf,col\n",
    "from datetime import datetime, timedelta\n",
    "from pyspark.sql.functions import year, month, dayofmonth, hour, weekofyear, date_format, dayofweek, quarter, dayofyear\n",
    "import inspect\n",
    "import sql_queries\n",
    "import time"
   ]
  },
  {
   "cell_type": "code",
   "execution_count": 11,
   "metadata": {
    "editable": true
   },
   "outputs": [],
   "source": [
    "def create_spark_session():\n",
    "    '''\n",
    "        - Creates spark session\n",
    "    '''\n",
    "    spark = SparkSession \\\n",
    "        .builder \\\n",
    "        .config(\"spark.jars.packages\", \"org.apache.hadoop:hadoop-aws:2.7.0\")\\\n",
    "        .getOrCreate()\n",
    "    return spark"
   ]
  },
  {
   "cell_type": "code",
   "execution_count": 16,
   "metadata": {
    "editable": true
   },
   "outputs": [],
   "source": [
    "spark=create_spark_session()"
   ]
  },
  {
   "cell_type": "code",
   "execution_count": 13,
   "metadata": {
    "editable": true
   },
   "outputs": [],
   "source": [
    "# filesystem path for each table\n",
    "dim_arrival_date_path=\"/home/workspace/spark-warehouse/arrival_date.parquet\"\n",
    "dim_arrival_location_path=\"/home/workspace/spark-warehouse/arrival_location.parquet\"\n",
    "dim_demographics_path=\"/home/workspace/spark-warehouse/demographics.parquet\"\n",
    "dim_junk_visa_transport_path=\"/home/workspace/spark-warehouse/junk_visa_transport.parquet\"\n",
    "dim_origin_country_path=\"/home/workspace/spark-warehouse/origin_country.parquet\"\n",
    "fact_immigration_path=\"/home/workspace/spark-warehouse/immigration.parquet\""
   ]
  },
  {
   "cell_type": "code",
   "execution_count": 14,
   "metadata": {
    "editable": true
   },
   "outputs": [],
   "source": [
    "# dictionary table:source_path\n",
    "schema_dict={'dim_arrival_date':dim_arrival_date_path,\n",
    "             'dim_arrival_location':dim_arrival_location_path,\n",
    "             'dim_demographics':dim_demographics_path,\n",
    "             'dim_junk_visa_transport':dim_junk_visa_transport_path,\n",
    "             'dim_origin_country':dim_origin_country_path,\n",
    "             'fact_immigration':fact_immigration_path}"
   ]
  },
  {
   "cell_type": "code",
   "execution_count": 17,
   "metadata": {
    "editable": true
   },
   "outputs": [
    {
     "name": "stdout",
     "output_type": "stream",
     "text": [
      "dim_arrival_date is ready\n",
      "dim_arrival_location is ready\n",
      "dim_demographics is ready\n",
      "dim_junk_visa_transport is ready\n",
      "dim_origin_country is ready\n",
      "fact_immigration is ready\n"
     ]
    }
   ],
   "source": [
    "# read source files & create tables\n",
    "for key, value in schema_dict.items():\n",
    "    #print(f\"df=spark.read.parquet(\\\"{value}\\\")\")\n",
    "    #print(f\"df.createOrReplaceTempView(\\\"{key}\\\")\")\n",
    "    df=spark.read.parquet(value)\n",
    "    df.createOrReplaceTempView(key)\n",
    "    print(f\"{key} is ready\")"
   ]
  },
  {
   "cell_type": "code",
   "execution_count": 23,
   "metadata": {
    "editable": true
   },
   "outputs": [
    {
     "name": "stdout",
     "output_type": "stream",
     "text": [
      "+-------------+--------------+\n",
      "|         City|visitor_amount|\n",
      "+-------------+--------------+\n",
      "|     NEW YORK|        432355|\n",
      "|        MIAMI|        320748|\n",
      "|  LOS ANGELES|        277364|\n",
      "|      ORLANDO|        142679|\n",
      "|SAN FRANCISCO|        129347|\n",
      "+-------------+--------------+\n",
      "\n"
     ]
    }
   ],
   "source": [
    "# list top 5 cities with the most visitos (all time)\n",
    "spark.sql(\"\"\"select dal.port_name as city, count(*) visitor_amount\n",
    "    from fact_immigration fi \n",
    "    join dim_arrival_location dal \n",
    "    on fi.arrival_location_id=dal.id \n",
    "    group by dal.port_name\n",
    "    order by count(*) desc limit 5\"\"\").show()"
   ]
  },
  {
   "cell_type": "code",
   "execution_count": 40,
   "metadata": {
    "editable": true
   },
   "outputs": [
    {
     "name": "stdout",
     "output_type": "stream",
     "text": [
      "+-----------+--------+--------------+\n",
      "|arrival_day|    city|visitor_amount|\n",
      "+-----------+--------+--------------+\n",
      "|        Sat|NEW YORK|         79359|\n",
      "+-----------+--------+--------------+\n",
      "\n"
     ]
    }
   ],
   "source": [
    "# on which day of week in april 2016 does New York have the most arrivals?\n",
    "spark.sql(\"\"\"select dayofweek_name as arrival_day, dal.port_name as city, count(*) visitor_amount\n",
    "    from fact_immigration fi \n",
    "    join dim_arrival_location dal \n",
    "    on fi.arrival_location_id=dal.id and dal.port_name='NEW YORK'\n",
    "    join dim_arrival_date dad on fi.arrival_date_id=dad.arrdate and dad.month=4 and dad.year=2016\n",
    "    group by dal.port_name,dayofweek_name\n",
    "    order by count(*) desc limit 1\"\"\").show()"
   ]
  },
  {
   "cell_type": "code",
   "execution_count": 39,
   "metadata": {
    "editable": true
   },
   "outputs": [
    {
     "name": "stdout",
     "output_type": "stream",
     "text": [
      "+--------------------+--------+\n",
      "|        country_name|count(1)|\n",
      "+--------------------+--------+\n",
      "|      UNITED KINGDOM|  295508|\n",
      "|MEXICO Air Sea, a...|  165350|\n",
      "|              FRANCE|  155365|\n",
      "|          CHINA, PRC|  140794|\n",
      "|              BRAZIL|  116886|\n",
      "+--------------------+--------+\n",
      "\n"
     ]
    }
   ],
   "source": [
    "# top 5 citizenship visiting the US most\n",
    "spark.sql(\"\"\"select doc.country_name, count(*) \n",
    "    from fact_immigration fi \n",
    "    join dim_origin_country doc\n",
    "    on fi.country_id_citizenship = doc.country_id \n",
    "    group by doc.country_name\n",
    "    order by count(*) desc\n",
    "    limit 5\n",
    "    \"\"\").show()"
   ]
  },
  {
   "cell_type": "code",
   "execution_count": 41,
   "metadata": {
    "editable": true
   },
   "outputs": [
    {
     "name": "stdout",
     "output_type": "stream",
     "text": [
      "+-----------+--------+\n",
      "|       city|count(1)|\n",
      "+-----------+--------+\n",
      "|   NEW YORK|   63826|\n",
      "|    ORLANDO|   54836|\n",
      "|  LAS VEGAS|   25522|\n",
      "|LOS ANGELES|   23463|\n",
      "|      MIAMI|   21915|\n",
      "+-----------+--------+\n",
      "\n"
     ]
    }
   ],
   "source": [
    "# top 5 most visited cities by UNITED KINGDOM citizens\n",
    "spark.sql(\"\"\"select dal.port_name as city, count(*) \n",
    "    from fact_immigration fi \n",
    "    join dim_origin_country doc\n",
    "    on fi.country_id_citizenship = doc.country_id and doc.country_name='UNITED KINGDOM'\n",
    "    join dim_arrival_location dal\n",
    "    on fi.arrival_location_id=dal.id\n",
    "    group by dal.port_name\n",
    "    order by count(*) desc\n",
    "    limit 5\n",
    "    \"\"\").show()"
   ]
  },
  {
   "cell_type": "code",
   "execution_count": 52,
   "metadata": {
    "editable": true
   },
   "outputs": [
    {
     "name": "stdout",
     "output_type": "stream",
     "text": [
      "+-----------+-------------+-------------+----------------------+\n",
      "|citizenship|         city|amount_vistor|ratio_asian_population|\n",
      "+-----------+-------------+-------------+----------------------+\n",
      "| CHINA, PRC|  LOS ANGELES|        31309|                 12.92|\n",
      "| CHINA, PRC|     NEW YORK|        19926|                 15.26|\n",
      "| CHINA, PRC|SAN FRANCISCO|        18905|                 37.47|\n",
      "| CHINA, PRC|      CHICAGO|        15090|                  7.17|\n",
      "| CHINA, PRC|      SEATTLE|         7498|                 17.75|\n",
      "+-----------+-------------+-------------+----------------------+\n",
      "\n"
     ]
    }
   ],
   "source": [
    "# top 5 most visited cities by CHINA, PRC citizens and asian population ratio in those cities\n",
    "spark.sql(\"\"\"select doc.country_name as citizenship, \n",
    "    dal.port_name as city, \n",
    "    count(*) amount_vistor, \n",
    "    round((dd.asian_population/dd.total_population)*100,2) as ratio_asian_population\n",
    "    from fact_immigration fi \n",
    "    join dim_origin_country doc\n",
    "    on fi.country_id_citizenship = doc.country_id and doc.country_name='CHINA, PRC'\n",
    "    join dim_arrival_location dal\n",
    "    on fi.arrival_location_id=dal.id\n",
    "    join dim_demographics dd\n",
    "    on fi.arrlocation_demographics_id = dd.id\n",
    "    group by doc.country_name,dal.port_name,(dd.asian_population/dd.total_population)*100 \n",
    "    order by count(*) desc\n",
    "    limit 5\n",
    "    \"\"\").show()"
   ]
  },
  {
   "cell_type": "code",
   "execution_count": 62,
   "metadata": {
    "editable": true
   },
   "outputs": [
    {
     "name": "stdout",
     "output_type": "stream",
     "text": [
      "+---------+-----------+------+\n",
      "|visa_type|       city|amount|\n",
      "+---------+-----------+------+\n",
      "|  Student|   NEW YORK|  5213|\n",
      "|  Student|LOS ANGELES|  4892|\n",
      "|  Student|      MIAMI|  2530|\n",
      "|  Student|    CHICAGO|  2483|\n",
      "|  Student|     BOSTON|  2055|\n",
      "+---------+-----------+------+\n",
      "\n"
     ]
    }
   ],
   "source": [
    "# top 5 arrival locations for visitors with visa type Student\n",
    "spark.sql(\"\"\"select visa_type,\n",
    "    dal.port_name as city, \n",
    "    count(*) amount\n",
    "    from fact_immigration fi \n",
    "    join dim_junk_visa_transport djvt \n",
    "    on fi.visa_transport_id = djvt.id and visa_type in ('Student')\n",
    "    join dim_arrival_location dal\n",
    "    on fi.arrival_location_id = dal.id\n",
    "    group by visa_type,dal.port_name\n",
    "    order by count(*) desc\n",
    "    limit 5\n",
    "\"\"\").show()"
   ]
  },
  {
   "cell_type": "code",
   "execution_count": null,
   "metadata": {
    "editable": true
   },
   "outputs": [],
   "source": []
  },
  {
   "cell_type": "markdown",
   "metadata": {
    "editable": true
   },
   "source": [
    "### some generic tests / IGNORE"
   ]
  },
  {
   "cell_type": "code",
   "execution_count": 44,
   "metadata": {
    "editable": true
   },
   "outputs": [
    {
     "name": "stdout",
     "output_type": "stream",
     "text": [
      "+-------------+---------+---------------+--------------+----------+----------+---------------+-----------------+----------------+------------------+------------+----------------------+--------------------------+----------------+---------------------------+-----------------+----------------+\n",
      "|           id|port_code|           city|         state|state_code|median_age|male_population|female_population|total_population|number_of_veterans|foreign_born|average_household_size|hispanic_latino_population|white_population|african_american_population|native_population|asian_population|\n",
      "+-------------+---------+---------------+--------------+----------+----------+---------------+-----------------+----------------+------------------+------------+----------------------+--------------------------+----------------+---------------------------+-----------------+----------------+\n",
      "| 523986010113|      CHL|     Charleston|South Carolina|        SC|      35.0|          63956|            71568|          135524|              9368|        5767|                   2.4|                      3929|          104016|                      29998|              633|            2773|\n",
      "| 420906795008|      WIL|     Wilmington|North Carolina|        NC|      35.5|          52346|            63601|          115947|              5908|        7401|                  2.24|                      6811|           89270|                      23578|              742|            3152|\n",
      "|1116691496960|      PHI|   Philadelphia|  Pennsylvania|        PA|      34.1|         741270|           826172|         1567442|             61995|      205339|                  2.61|                    219038|          688130|                     691186|            17500|          122721|\n",
      "|1468878815232|      SFR|  San Francisco|    California|        CA|      38.3|         439752|           425064|          864816|             26276|      297199|                  2.37|                    132114|          442155|                      53270|             8997|          324034|\n",
      "|1331439861760|      MHT|     Manchester| New Hampshire|        NH|      37.3|          54845|            55378|          110223|              5473|       14506|                   2.4|                     11962|          100108|                       6896|              558|            4304|\n",
      "| 506806140928|      CLT|      Charlotte|North Carolina|        NC|      34.3|         396646|           430475|          827121|             36046|      128897|                  2.52|                    113731|          446795|                     301568|             8746|           55399|\n",
      "|1090921693185|      PRO|     Providence|  Rhode Island|        RI|      29.9|          89090|            90114|          179204|              4933|       53532|                  2.72|                     77968|           97885|                      30638|             4171|           13432|\n",
      "|1606317768704|      FTL|Fort Lauderdale|       Florida|        FL|      42.8|          93948|            84639|          178587|              8897|       47582|                  2.38|                     28148|          109751|                      62954|             1366|            3791|\n",
      "|1133871366144|      WPB|West Palm Beach|       Florida|        FL|      39.6|          49262|            57520|          106782|              4917|       30675|                  2.53|                     26132|           60648|                      39226|              406|            3191|\n",
      "| 523986010112|      LOS|    Los Angeles|    California|        CA|      35.0|        1958998|          2012898|         3971896|             85417|     1485425|                  2.86|                   1936732|         2177650|                     404868|            63758|          512999|\n",
      "|1520418422784|      ABQ|    Albuquerque|    New Mexico|        NM|      36.0|         273323|           285808|          559131|             37443|       58200|                  2.49|                    271854|          411847|                      26774|            32243|           25140|\n",
      "|1271310319616|      NOL|    New Orleans|     Louisiana|        LA|      35.9|         185736|           203881|          389617|             17388|       21679|                  2.41|                     21850|          140314|                     234645|             2496|           13349|\n",
      "|   8589934592|      BTN|    Baton Rouge|     Louisiana|        LA|      31.2|         111492|           117104|          228596|             10633|       12268|                  2.52|                      7428|           96730|                     122634|             1119|            7442|\n",
      "|1151051235328|      LNB|     Long Beach|    California|        CA|      34.6|         238159|           236013|          474172|             17463|      127764|                  2.78|                    207890|          277962|                      64948|            12841|           68095|\n",
      "|1589137899520|      SAC|     Sacramento|    California|        CA|      33.7|         237724|           252991|          490715|             19698|      112579|                  2.73|                    150153|          268151|                      77439|            10145|          105063|\n",
      "| 584115552256|      BOS|         Boston| Massachusetts|        MA|      31.8|         322149|           347320|          669469|             18350|      190123|                  2.38|                    130656|          378543|                     189347|             5580|           69976|\n",
      "|1073741824000|      INP|   Indianapolis|       Indiana|        IN|      34.1|         410615|           437808|          848423|             42186|       72456|                  2.53|                     83426|          553665|                     253932|             8656|           29307|\n",
      "| 231928233984|      SDP|      San Diego|    California|        CA|      34.5|         693826|           701081|         1394907|             92489|      373842|                  2.73|                    425414|          949388|                     111650|            16496|          267222|\n",
      "|1168231104512|      JAC|   Jacksonville|       Florida|        FL|      35.7|         419203|           448828|          868031|             75432|       85650|                  2.62|                     80064|          543582|                     282692|             8177|           50895|\n",
      "|1632087572480|      KAN|    Kansas City|      Missouri|        MO|      35.9|         228430|           246931|          475361|             24710|       37787|                  2.35|                     46037|          296623|                     147739|             5796|           17061|\n",
      "+-------------+---------+---------------+--------------+----------+----------+---------------+-----------------+----------------+------------------+------------+----------------------+--------------------------+----------------+---------------------------+-----------------+----------------+\n",
      "only showing top 20 rows\n",
      "\n"
     ]
    }
   ],
   "source": [
    "spark.sql(\"select * from dim_demographics\").show()"
   ]
  },
  {
   "cell_type": "code",
   "execution_count": 20,
   "metadata": {
    "editable": true
   },
   "outputs": [
    {
     "name": "stdout",
     "output_type": "stream",
     "text": [
      "+-------------+---------+----------+--------------------+\n",
      "|           id|port_code|state_code|           port_name|\n",
      "+-------------+---------+----------+--------------------+\n",
      "| 197568495616|      MWH|        WA|MOSES LAKE GRANT ...|\n",
      "|1675037245440|      HSV|        AL|MADISON COUNTY - ...|\n",
      "|  42949672960|      BWA|        WA|            BOUNDARY|\n",
      "|  42949672961|      DAB|        FL|DAYTONA BEACH INT...|\n",
      "|  42949672962|      DET|        MI|             DETROIT|\n",
      "|  42949672963|      DNA|        TX|               DONNA|\n",
      "|  42949672964|      GAL|        TX|           GALVESTON|\n",
      "|  42949672965|      PTK|        MI|OAKLAND COUNTY - ...|\n",
      "| 300647710720|      ICT|        KS|MID-CONTINENT - W...|\n",
      "|1683627180032|      LCB|        TX|LAREDO COLUMBIA B...|\n",
      "+-------------+---------+----------+--------------------+\n",
      "\n"
     ]
    }
   ],
   "source": [
    "spark.sql(\"select * from dim_arrival_location limit 10\").show()"
   ]
  },
  {
   "cell_type": "code",
   "execution_count": 31,
   "metadata": {
    "editable": true
   },
   "outputs": [
    {
     "name": "stdout",
     "output_type": "stream",
     "text": [
      "+-------------+-------------------+---------------+-----------------+----------------------+--------------------+---------------------------+-------------+-------------------+----------------+-------+\n",
      "|           id|arrival_location_id|arrival_date_id|visa_transport_id|country_id_citizenship|country_id_residence|arrlocation_demographics_id|immigrant_age|immigrant_birthyear|immigrant_gender|airline|\n",
      "+-------------+-------------------+---------------+-----------------+----------------------+--------------------+---------------------------+-------------+-------------------+----------------+-------+\n",
      "|1700807049216|      1194000908288|          20547|             1021|                   299|                 299|              1125281431552|           61|               1955|               F|     PD|\n",
      "|1700807049217|      1194000908288|          20547|             1011|                   299|                 299|              1125281431552|           53|               1963|               M|     CX|\n",
      "|1700807049218|      1194000908288|          20547|             1011|                   299|                 299|              1125281431552|           61|               1955|               F|     KE|\n",
      "|1700807049219|      1194000908288|          20547|             1011|                   299|                 299|              1125281431552|           57|               1959|               F|     KE|\n",
      "|1700807049220|      1194000908288|          20547|             1011|                   299|                 299|              1125281431552|           53|               1963|               F|     KE|\n",
      "|1700807049221|      1194000908288|          20547|             1021|                   299|                 299|              1125281431552|           56|               1960|               F|     KE|\n",
      "|1700807049222|      1194000908288|          20547|             1021|                   299|                 299|              1125281431552|           37|               1979|               F|     KE|\n",
      "|1700807049223|      1194000908288|          20547|             1021|                   299|                 299|              1125281431552|           41|               1975|               M|     KE|\n",
      "|1700807049224|      1194000908288|          20547|             1021|                   299|                 299|              1125281431552|           35|               1981|               M|     KE|\n",
      "|1700807049225|      1194000908288|          20547|             1031|                   299|                 299|              1125281431552|           24|               1992|               M|     UA|\n",
      "+-------------+-------------------+---------------+-----------------+----------------------+--------------------+---------------------------+-------------+-------------------+----------------+-------+\n",
      "\n"
     ]
    }
   ],
   "source": [
    "spark.sql(\"select * from fact_immigration limit 10\").show()"
   ]
  },
  {
   "cell_type": "code",
   "execution_count": 68,
   "metadata": {
    "editable": true
   },
   "outputs": [
    {
     "name": "stdout",
     "output_type": "stream",
     "text": [
      "+-------+-------------------+----+-----+----------+---------+--------------+---------+----------+-------+\n",
      "|arrdate|       arrdate_conv|year|month|dayofmonth|dayofweek|dayofweek_name|dayofyear|weekofyear|quarter|\n",
      "+-------+-------------------+----+-----+----------+---------+--------------+---------+----------+-------+\n",
      "|  20558|2016-04-14T00:00:00|2016|    4|        14|        5|           Thu|      105|        15|      2|\n",
      "|  20570|2016-04-26T00:00:00|2016|    4|        26|        3|           Tue|      117|        17|      2|\n",
      "|  20574|2016-04-30T00:00:00|2016|    4|        30|        7|           Sat|      121|        17|      2|\n",
      "|  20554|2016-04-10T00:00:00|2016|    4|        10|        1|           Sun|      101|        14|      2|\n",
      "|  20557|2016-04-13T00:00:00|2016|    4|        13|        4|           Wed|      104|        15|      2|\n",
      "|  20556|2016-04-12T00:00:00|2016|    4|        12|        3|           Tue|      103|        15|      2|\n",
      "|  20569|2016-04-25T00:00:00|2016|    4|        25|        2|           Mon|      116|        17|      2|\n",
      "|  20547|2016-04-03T00:00:00|2016|    4|         3|        1|           Sun|       94|        13|      2|\n",
      "|  20553|2016-04-09T00:00:00|2016|    4|         9|        7|           Sat|      100|        14|      2|\n",
      "|  20571|2016-04-27T00:00:00|2016|    4|        27|        4|           Wed|      118|        17|      2|\n",
      "|  20550|2016-04-06T00:00:00|2016|    4|         6|        4|           Wed|       97|        14|      2|\n",
      "|  20552|2016-04-08T00:00:00|2016|    4|         8|        6|           Fri|       99|        14|      2|\n",
      "|  20563|2016-04-19T00:00:00|2016|    4|        19|        3|           Tue|      110|        16|      2|\n",
      "|  20564|2016-04-20T00:00:00|2016|    4|        20|        4|           Wed|      111|        16|      2|\n",
      "|  20565|2016-04-21T00:00:00|2016|    4|        21|        5|           Thu|      112|        16|      2|\n",
      "|  20572|2016-04-28T00:00:00|2016|    4|        28|        5|           Thu|      119|        17|      2|\n",
      "|  20566|2016-04-22T00:00:00|2016|    4|        22|        6|           Fri|      113|        16|      2|\n",
      "|  20549|2016-04-05T00:00:00|2016|    4|         5|        3|           Tue|       96|        14|      2|\n",
      "|  20548|2016-04-04T00:00:00|2016|    4|         4|        2|           Mon|       95|        14|      2|\n",
      "|  20555|2016-04-11T00:00:00|2016|    4|        11|        2|           Mon|      102|        15|      2|\n",
      "+-------+-------------------+----+-----+----------+---------+--------------+---------+----------+-------+\n",
      "only showing top 20 rows\n",
      "\n"
     ]
    }
   ],
   "source": [
    "spark.sql(\"select * from dim_arrival_date\").show()"
   ]
  },
  {
   "cell_type": "code",
   "execution_count": 53,
   "metadata": {
    "editable": true
   },
   "outputs": [
    {
     "name": "stdout",
     "output_type": "stream",
     "text": [
      "+----+---------+--------------+---------+--------------+\n",
      "|  id|visa_code|transport_code|visa_type|transport_type|\n",
      "+----+---------+--------------+---------+--------------+\n",
      "|1019|        1|             9| Business|  Not reported|\n",
      "|1029|        2|             9| Pleasure|  Not reported|\n",
      "|1039|        3|             9|  Student|  Not reported|\n",
      "|1013|        1|             3| Business|          Land|\n",
      "|1023|        2|             3| Pleasure|          Land|\n",
      "|1033|        3|             3|  Student|          Land|\n",
      "|1011|        1|             1| Business|           Air|\n",
      "|1021|        2|             1| Pleasure|           Air|\n",
      "|1031|        3|             1|  Student|           Air|\n",
      "|1012|        1|             2| Business|           Sea|\n",
      "|1022|        2|             2| Pleasure|           Sea|\n",
      "|1032|        3|             2|  Student|           Sea|\n",
      "+----+---------+--------------+---------+--------------+\n",
      "\n"
     ]
    }
   ],
   "source": [
    "spark.sql(\"\"\"select * from dim_junk_visa_transport\"\"\").show()"
   ]
  },
  {
   "cell_type": "code",
   "execution_count": 71,
   "metadata": {
    "editable": true
   },
   "outputs": [
    {
     "name": "stdout",
     "output_type": "stream",
     "text": [
      "+-----------------+------------------+\n",
      "|length(port_code)|length(state_code)|\n",
      "+-----------------+------------------+\n",
      "|                3|                 2|\n",
      "+-----------------+------------------+\n",
      "\n"
     ]
    }
   ],
   "source": [
    "spark.sql(\"select distinct length(port_code),length(state_code)  from dim_arrival_location dal\").show()"
   ]
  }
 ],
 "metadata": {
  "kernelspec": {
   "display_name": "Python 3",
   "language": "python",
   "name": "python3"
  },
  "language_info": {
   "codemirror_mode": {
    "name": "ipython",
    "version": 3
   },
   "file_extension": ".py",
   "mimetype": "text/x-python",
   "name": "python",
   "nbconvert_exporter": "python",
   "pygments_lexer": "ipython3",
   "version": "3.6.3"
  }
 },
 "nbformat": 4,
 "nbformat_minor": 4
}
